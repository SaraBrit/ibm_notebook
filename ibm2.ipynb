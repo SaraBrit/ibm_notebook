{
 "cells": [
  {
   "cell_type": "markdown",
   "metadata": {},
   "source": [
    "# My Jupyter Notebook on IBM Watson Studio"
   ]
  },
  {
   "cell_type": "markdown",
   "metadata": {},
   "source": [
    "### my name is : Sara Djebrit\n",
    "I'am math teacher and currently reach my career with Data Science formations"
   ]
  },
  {
   "cell_type": "markdown",
   "metadata": {},
   "source": [
    "###### I am interested in data science because it is science that related to my passion area such as solving problems, critical thinking,reach knowledge"
   ]
  },
  {
   "cell_type": "markdown",
   "metadata": {},
   "source": [
    "### in below we will try to execute a code that include addition operation (plus) and testing the result for get an output"
   ]
  },
  {
   "cell_type": "code",
   "execution_count": 2,
   "metadata": {},
   "outputs": [
    {
     "name": "stdout",
     "output_type": "stream",
     "text": [
      "hello\n"
     ]
    }
   ],
   "source": [
    "a=3\n",
    "b=87\n",
    "if a+b>5:\n",
    "    print('hello')\n",
    "else:\n",
    "    print('hey')"
   ]
  },
  {
   "cell_type": "markdown",
   "metadata": {},
   "source": [
    "1.Math \\n ,\n",
    "2.machine Learning\n",
    "3.programming \n",
    "4.passion"
   ]
  },
  {
   "cell_type": "markdown",
   "metadata": {},
   "source": [
    "____________________"
   ]
  },
  {
   "cell_type": "markdown",
   "metadata": {},
   "source": [
    "- this \\n,\n",
    "- is \\n,\n",
    "- ~~not~~ \\n,\n",
    "- Polong"
   ]
  },
  {
   "cell_type": "markdown",
   "metadata": {},
   "source": [
    "| Science | Area | domain |\n",
    "| --- | --- | --- |\n",
    "| Data Science | Computer science |  math |"
   ]
  },
  {
   "cell_type": "code",
   "execution_count": null,
   "metadata": {},
   "outputs": [],
   "source": []
  }
 ],
 "metadata": {
  "kernelspec": {
   "display_name": "Python 3",
   "language": "python",
   "name": "python3"
  },
  "language_info": {
   "codemirror_mode": {
    "name": "ipython",
    "version": 3
   },
   "file_extension": ".py",
   "mimetype": "text/x-python",
   "name": "python",
   "nbconvert_exporter": "python",
   "pygments_lexer": "ipython3",
   "version": "3.8.3"
  }
 },
 "nbformat": 4,
 "nbformat_minor": 4
}
